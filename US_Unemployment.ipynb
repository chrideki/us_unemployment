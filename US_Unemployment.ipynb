{
 "cells": [
  {
   "cell_type": "markdown",
   "metadata": {},
   "source": [
    "# Unemployment rate in U.S.\n",
    "\n",
    "In this work I'm going to made use of the API from U.S. Bureau of Labor Statistics, to get data about the unemployment in each State."
   ]
  },
  {
   "cell_type": "code",
   "execution_count": 67,
   "metadata": {},
   "outputs": [
    {
     "data": {
      "text/html": [
       "<div>\n",
       "<style scoped>\n",
       "    .dataframe tbody tr th:only-of-type {\n",
       "        vertical-align: middle;\n",
       "    }\n",
       "\n",
       "    .dataframe tbody tr th {\n",
       "        vertical-align: top;\n",
       "    }\n",
       "\n",
       "    .dataframe thead th {\n",
       "        text-align: right;\n",
       "    }\n",
       "</style>\n",
       "<table border=\"1\" class=\"dataframe\">\n",
       "  <thead>\n",
       "    <tr style=\"text-align: right;\">\n",
       "      <th></th>\n",
       "      <th>state_code</th>\n",
       "      <th>state_name</th>\n",
       "      <th>state_id</th>\n",
       "    </tr>\n",
       "  </thead>\n",
       "  <tbody>\n",
       "    <tr>\n",
       "      <td>0</td>\n",
       "      <td>1</td>\n",
       "      <td>Alabama</td>\n",
       "      <td>AL</td>\n",
       "    </tr>\n",
       "    <tr>\n",
       "      <td>1</td>\n",
       "      <td>2</td>\n",
       "      <td>Alaska</td>\n",
       "      <td>AK</td>\n",
       "    </tr>\n",
       "    <tr>\n",
       "      <td>2</td>\n",
       "      <td>4</td>\n",
       "      <td>Arizona</td>\n",
       "      <td>AZ</td>\n",
       "    </tr>\n",
       "    <tr>\n",
       "      <td>3</td>\n",
       "      <td>5</td>\n",
       "      <td>Arkansas</td>\n",
       "      <td>AR</td>\n",
       "    </tr>\n",
       "    <tr>\n",
       "      <td>4</td>\n",
       "      <td>6</td>\n",
       "      <td>California</td>\n",
       "      <td>CA</td>\n",
       "    </tr>\n",
       "  </tbody>\n",
       "</table>\n",
       "</div>"
      ],
      "text/plain": [
       "   state_code  state_name state_id\n",
       "0           1     Alabama       AL\n",
       "1           2      Alaska       AK\n",
       "2           4     Arizona       AZ\n",
       "3           5    Arkansas       AR\n",
       "4           6  California       CA"
      ]
     },
     "execution_count": 67,
     "metadata": {},
     "output_type": "execute_result"
    }
   ],
   "source": [
    "import pandas as pd\n",
    "import numpy as np\n",
    "import requests\n",
    "import json\n",
    "\n",
    "# import table with states and codes\n",
    "state_code = pd.read_csv('state_code.csv')\n",
    "state_code.head()"
   ]
  },
  {
   "cell_type": "code",
   "execution_count": 68,
   "metadata": {},
   "outputs": [
    {
     "data": {
      "text/html": [
       "<div>\n",
       "<style scoped>\n",
       "    .dataframe tbody tr th:only-of-type {\n",
       "        vertical-align: middle;\n",
       "    }\n",
       "\n",
       "    .dataframe tbody tr th {\n",
       "        vertical-align: top;\n",
       "    }\n",
       "\n",
       "    .dataframe thead th {\n",
       "        text-align: right;\n",
       "    }\n",
       "</style>\n",
       "<table border=\"1\" class=\"dataframe\">\n",
       "  <thead>\n",
       "    <tr style=\"text-align: right;\">\n",
       "      <th></th>\n",
       "      <th>state_code</th>\n",
       "      <th>state_name</th>\n",
       "      <th>state_id</th>\n",
       "      <th>series_id</th>\n",
       "    </tr>\n",
       "  </thead>\n",
       "  <tbody>\n",
       "    <tr>\n",
       "      <td>8</td>\n",
       "      <td>11</td>\n",
       "      <td>District of Columbia</td>\n",
       "      <td>DC</td>\n",
       "      <td>LASST110000000000003</td>\n",
       "    </tr>\n",
       "  </tbody>\n",
       "</table>\n",
       "</div>"
      ],
      "text/plain": [
       "   state_code            state_name state_id             series_id\n",
       "8          11  District of Columbia       DC  LASST110000000000003"
      ]
     },
     "execution_count": 68,
     "metadata": {},
     "output_type": "execute_result"
    }
   ],
   "source": [
    "# obtain the seriesid for each state from the list of state code\n",
    "seriesid_list = []\n",
    "for code in state_code['state_code']:\n",
    "    if code < 10:\n",
    "        seriesid_list.append('LASST0' + str(code) + '0000000000003')\n",
    "    else: \n",
    "        seriesid_list.append('LASST' + str(code) + '0000000000003')\n",
    "state_code['series_id'] = seriesid_list\n",
    "# U.S. Bureau of Labor Statistics consents to pull API up to 50 seriesID\n",
    "# So we drop the value of D.C. from the list of seriesID, leaving the IDs for the 50 states\n",
    "state_code[state_code['state_name'] == 'District of Columbia']"
   ]
  },
  {
   "cell_type": "code",
   "execution_count": 69,
   "metadata": {},
   "outputs": [
    {
     "data": {
      "text/plain": [
       "50"
      ]
     },
     "execution_count": 69,
     "metadata": {},
     "output_type": "execute_result"
    }
   ],
   "source": [
    "# removing the seriesID from the list\n",
    "seriesid_list.remove('LASST110000000000003')\n",
    "len(seriesid_list)"
   ]
  },
  {
   "cell_type": "code",
   "execution_count": 70,
   "metadata": {},
   "outputs": [],
   "source": [
    "# BLS allows only 25 seriesID's requests, so we split the list in two parts \n",
    "seriesid_listA = []\n",
    "seriesid_listB = []\n",
    "for i in range(len(seriesid_list)):\n",
    "    if i < len(seriesid_list)/2:\n",
    "        seriesid_listA.append(seriesid_list[i])\n",
    "    else:\n",
    "        seriesid_listB.append(seriesid_list[i])"
   ]
  },
  {
   "cell_type": "code",
   "execution_count": 71,
   "metadata": {},
   "outputs": [
    {
     "name": "stdout",
     "output_type": "stream",
     "text": [
      "200\n"
     ]
    }
   ],
   "source": [
    "# pull data from U.S. Bureau of Labor Statistics API \n",
    "# procede for seriesID_listA\n",
    "headers = {'Content-type': 'application/json'}\n",
    "parameters = json.dumps({\"seriesid\" : seriesid_listA, \"startyear\":\"2019\", \"endyear\":\"2020\"})\n",
    "responseA = requests.post('https://api.bls.gov/publicAPI/v2/timeseries/data/?registrationkey=b205f2551a34471eae93f557017a8da6', data = parameters, headers=headers)\n",
    "print(responseA.status_code) \n",
    "#print(response.content)"
   ]
  },
  {
   "cell_type": "code",
   "execution_count": 72,
   "metadata": {},
   "outputs": [
    {
     "name": "stdout",
     "output_type": "stream",
     "text": [
      "200\n"
     ]
    }
   ],
   "source": [
    "# pull data from U.S. Bureau of Labor Statistics API \n",
    "# procede for seriesID_listB\n",
    "headers = {'Content-type': 'application/json'}\n",
    "parameters = json.dumps({\"seriesid\" : seriesid_listB, \"startyear\":\"2019\", \"endyear\":\"2020\"})\n",
    "responseB = requests.post('https://api.bls.gov/publicAPI/v2/timeseries/data/?registrationkey=b205f2551a34471eae93f557017a8da6', data = parameters, headers=headers)\n",
    "print(responseB.status_code) "
   ]
  },
  {
   "cell_type": "code",
   "execution_count": 73,
   "metadata": {},
   "outputs": [
    {
     "name": "stdout",
     "output_type": "stream",
     "text": [
      "200\n"
     ]
    }
   ],
   "source": [
    "# pull data from U.S. Bureau of Labor Statistics API \n",
    "# procede for D.C. seriesID\n",
    "headers = {'Content-type': 'application/json'}\n",
    "parameters = json.dumps({\"seriesid\" : [\"LASST110000000000003\"], \"startyear\":\"2019\", \"endyear\":\"2020\"})\n",
    "responseDC = requests.post('https://api.bls.gov/publicAPI/v2/timeseries/data/?registrationkey=b205f2551a34471eae93f557017a8da6', data = parameters, headers=headers)\n",
    "print(responseDC.status_code)\n",
    "#print(responseDC.content)"
   ]
  },
  {
   "cell_type": "code",
   "execution_count": 74,
   "metadata": {},
   "outputs": [],
   "source": [
    "df_list = [responseA.json(), responseB.json(), responseDC.json()]"
   ]
  },
  {
   "cell_type": "code",
   "execution_count": 75,
   "metadata": {},
   "outputs": [
    {
     "name": "stderr",
     "output_type": "stream",
     "text": [
      "/opt/anaconda3/lib/python3.7/site-packages/ipykernel_launcher.py:12: FutureWarning: `item` has been deprecated and will be removed in a future version\n",
      "  if sys.path[0] == '':\n"
     ]
    },
    {
     "data": {
      "text/html": [
       "<div>\n",
       "<style scoped>\n",
       "    .dataframe tbody tr th:only-of-type {\n",
       "        vertical-align: middle;\n",
       "    }\n",
       "\n",
       "    .dataframe tbody tr th {\n",
       "        vertical-align: top;\n",
       "    }\n",
       "\n",
       "    .dataframe thead th {\n",
       "        text-align: right;\n",
       "    }\n",
       "</style>\n",
       "<table border=\"1\" class=\"dataframe\">\n",
       "  <thead>\n",
       "    <tr style=\"text-align: right;\">\n",
       "      <th></th>\n",
       "      <th>state</th>\n",
       "      <th>year</th>\n",
       "      <th>period</th>\n",
       "      <th>value</th>\n",
       "      <th>ID</th>\n",
       "    </tr>\n",
       "  </thead>\n",
       "  <tbody>\n",
       "    <tr>\n",
       "      <td>0</td>\n",
       "      <td>Alabama</td>\n",
       "      <td>2020</td>\n",
       "      <td>M06</td>\n",
       "      <td>7.5</td>\n",
       "      <td>Alabama2020M06</td>\n",
       "    </tr>\n",
       "    <tr>\n",
       "      <td>1</td>\n",
       "      <td>Alabama</td>\n",
       "      <td>2020</td>\n",
       "      <td>M05</td>\n",
       "      <td>9.6</td>\n",
       "      <td>Alabama2020M05</td>\n",
       "    </tr>\n",
       "    <tr>\n",
       "      <td>2</td>\n",
       "      <td>Alabama</td>\n",
       "      <td>2020</td>\n",
       "      <td>M04</td>\n",
       "      <td>13.8</td>\n",
       "      <td>Alabama2020M04</td>\n",
       "    </tr>\n",
       "    <tr>\n",
       "      <td>3</td>\n",
       "      <td>Alabama</td>\n",
       "      <td>2020</td>\n",
       "      <td>M03</td>\n",
       "      <td>3.0</td>\n",
       "      <td>Alabama2020M03</td>\n",
       "    </tr>\n",
       "    <tr>\n",
       "      <td>4</td>\n",
       "      <td>Alabama</td>\n",
       "      <td>2020</td>\n",
       "      <td>M02</td>\n",
       "      <td>2.7</td>\n",
       "      <td>Alabama2020M02</td>\n",
       "    </tr>\n",
       "    <tr>\n",
       "      <td>...</td>\n",
       "      <td>...</td>\n",
       "      <td>...</td>\n",
       "      <td>...</td>\n",
       "      <td>...</td>\n",
       "      <td>...</td>\n",
       "    </tr>\n",
       "    <tr>\n",
       "      <td>913</td>\n",
       "      <td>District of Columbia</td>\n",
       "      <td>2019</td>\n",
       "      <td>M05</td>\n",
       "      <td>5.5</td>\n",
       "      <td>District of Columbia2019M05</td>\n",
       "    </tr>\n",
       "    <tr>\n",
       "      <td>914</td>\n",
       "      <td>District of Columbia</td>\n",
       "      <td>2019</td>\n",
       "      <td>M04</td>\n",
       "      <td>5.6</td>\n",
       "      <td>District of Columbia2019M04</td>\n",
       "    </tr>\n",
       "    <tr>\n",
       "      <td>915</td>\n",
       "      <td>District of Columbia</td>\n",
       "      <td>2019</td>\n",
       "      <td>M03</td>\n",
       "      <td>5.7</td>\n",
       "      <td>District of Columbia2019M03</td>\n",
       "    </tr>\n",
       "    <tr>\n",
       "      <td>916</td>\n",
       "      <td>District of Columbia</td>\n",
       "      <td>2019</td>\n",
       "      <td>M02</td>\n",
       "      <td>5.8</td>\n",
       "      <td>District of Columbia2019M02</td>\n",
       "    </tr>\n",
       "    <tr>\n",
       "      <td>917</td>\n",
       "      <td>District of Columbia</td>\n",
       "      <td>2019</td>\n",
       "      <td>M01</td>\n",
       "      <td>5.8</td>\n",
       "      <td>District of Columbia2019M01</td>\n",
       "    </tr>\n",
       "  </tbody>\n",
       "</table>\n",
       "<p>918 rows × 5 columns</p>\n",
       "</div>"
      ],
      "text/plain": [
       "                    state  year period value                           ID\n",
       "0                 Alabama  2020    M06   7.5               Alabama2020M06\n",
       "1                 Alabama  2020    M05   9.6               Alabama2020M05\n",
       "2                 Alabama  2020    M04  13.8               Alabama2020M04\n",
       "3                 Alabama  2020    M03   3.0               Alabama2020M03\n",
       "4                 Alabama  2020    M02   2.7               Alabama2020M02\n",
       "..                    ...   ...    ...   ...                          ...\n",
       "913  District of Columbia  2019    M05   5.5  District of Columbia2019M05\n",
       "914  District of Columbia  2019    M04   5.6  District of Columbia2019M04\n",
       "915  District of Columbia  2019    M03   5.7  District of Columbia2019M03\n",
       "916  District of Columbia  2019    M02   5.8  District of Columbia2019M02\n",
       "917  District of Columbia  2019    M01   5.8  District of Columbia2019M01\n",
       "\n",
       "[918 rows x 5 columns]"
      ]
     },
     "execution_count": 75,
     "metadata": {},
     "output_type": "execute_result"
    }
   ],
   "source": [
    "# create a list of dataframe from json results\n",
    "df_list = [responseA.json(), responseB.json(), responseDC.json()]\n",
    "\n",
    "# create a pandas dataframe merging all the values in the dataframes\n",
    "state = []\n",
    "year = []\n",
    "period = []\n",
    "value = []\n",
    "for i in range(len(df_list)):\n",
    "    for serie in df_list[i]['Results']['series']:\n",
    "         for x in serie['data']:\n",
    "            state.append(state_code['state_name'][state_code['series_id'] == serie['seriesID']].item())\n",
    "            #state.append(serie['seriesID'])\n",
    "            year.append(x['year'])\n",
    "            period.append(x['period'])\n",
    "            value.append(x['value'])\n",
    "\n",
    "un_data = pd.DataFrame(list(zip(state, year, period, value)), \n",
    "               columns =['state', 'year', 'period', 'value']) \n",
    "        \n",
    "un_data['ID'] = data['state']+data['year']+data['period']\n",
    "\n",
    "un_data"
   ]
  },
  {
   "cell_type": "code",
   "execution_count": 76,
   "metadata": {},
   "outputs": [
    {
     "data": {
      "text/html": [
       "<div>\n",
       "<style scoped>\n",
       "    .dataframe tbody tr th:only-of-type {\n",
       "        vertical-align: middle;\n",
       "    }\n",
       "\n",
       "    .dataframe tbody tr th {\n",
       "        vertical-align: top;\n",
       "    }\n",
       "\n",
       "    .dataframe thead th {\n",
       "        text-align: right;\n",
       "    }\n",
       "</style>\n",
       "<table border=\"1\" class=\"dataframe\">\n",
       "  <thead>\n",
       "    <tr style=\"text-align: right;\">\n",
       "      <th></th>\n",
       "      <th>state_code</th>\n",
       "      <th>state_name</th>\n",
       "      <th>state_id</th>\n",
       "      <th>series_id</th>\n",
       "      <th>LF_series_id</th>\n",
       "    </tr>\n",
       "  </thead>\n",
       "  <tbody>\n",
       "    <tr>\n",
       "      <td>8</td>\n",
       "      <td>11</td>\n",
       "      <td>District of Columbia</td>\n",
       "      <td>DC</td>\n",
       "      <td>LASST110000000000003</td>\n",
       "      <td>LASST110000000000006</td>\n",
       "    </tr>\n",
       "  </tbody>\n",
       "</table>\n",
       "</div>"
      ],
      "text/plain": [
       "   state_code            state_name state_id             series_id  \\\n",
       "8          11  District of Columbia       DC  LASST110000000000003   \n",
       "\n",
       "           LF_series_id  \n",
       "8  LASST110000000000006  "
      ]
     },
     "execution_count": 76,
     "metadata": {},
     "output_type": "execute_result"
    }
   ],
   "source": [
    "# obtain the seriesid for LABOR FORCE per each state from the list of state code\n",
    "LF_seriesid_list = []\n",
    "for code in state_code['state_code']:\n",
    "    if code < 10:\n",
    "        LF_seriesid_list.append('LASST0' + str(code) + '0000000000006')\n",
    "    else: \n",
    "        LF_seriesid_list.append('LASST' + str(code) + '0000000000006')\n",
    "state_code['LF_series_id'] = LB_seriesid_list\n",
    "# U.S. Bureau of Labor Statistics consents to pull API up to 50 seriesID\n",
    "# So we drop the value of D.C. from the list of seriesID, leaving the IDs for the 50 states\n",
    "state_code[state_code['state_name'] == 'District of Columbia']"
   ]
  },
  {
   "cell_type": "code",
   "execution_count": 77,
   "metadata": {},
   "outputs": [
    {
     "data": {
      "text/plain": [
       "50"
      ]
     },
     "execution_count": 77,
     "metadata": {},
     "output_type": "execute_result"
    }
   ],
   "source": [
    "# removing the seriesID from the list\n",
    "LF_seriesid_list.remove('LASST110000000000006')\n",
    "len(LF_seriesid_list)"
   ]
  },
  {
   "cell_type": "code",
   "execution_count": 78,
   "metadata": {},
   "outputs": [],
   "source": [
    "# BLS allows only 25 seriesID's requests, so we split the list in two parts \n",
    "LF_seriesid_listA = []\n",
    "LF_seriesid_listB = []\n",
    "for i in range(len(LF_seriesid_list)):\n",
    "    if i < len(LF_seriesid_list)/2:\n",
    "        LF_seriesid_listA.append(LF_seriesid_list[i])\n",
    "    else:\n",
    "        LF_seriesid_listB.append(LF_seriesid_list[i])"
   ]
  },
  {
   "cell_type": "code",
   "execution_count": 79,
   "metadata": {},
   "outputs": [
    {
     "name": "stdout",
     "output_type": "stream",
     "text": [
      "200\n"
     ]
    }
   ],
   "source": [
    "# pull data from U.S. Bureau of Labor Statistics API \n",
    "# procede for seriesID_listA\n",
    "headers = {'Content-type': 'application/json'}\n",
    "parameters = json.dumps({\"seriesid\" : LF_seriesid_listA, \"startyear\":\"2019\", \"endyear\":\"2020\"})\n",
    "LF_responseA = requests.post('https://api.bls.gov/publicAPI/v2/timeseries/data/?registrationkey=b205f2551a34471eae93f557017a8da6', data = parameters, headers=headers)\n",
    "print(LF_responseA.status_code) \n",
    "#print(LF_responseA.content)"
   ]
  },
  {
   "cell_type": "code",
   "execution_count": 80,
   "metadata": {},
   "outputs": [
    {
     "name": "stdout",
     "output_type": "stream",
     "text": [
      "200\n"
     ]
    }
   ],
   "source": [
    "# pull data from U.S. Bureau of Labor Statistics API \n",
    "# procede for seriesID_listB\n",
    "headers = {'Content-type': 'application/json'}\n",
    "parameters = json.dumps({\"seriesid\" : LF_seriesid_listB, \"startyear\":\"2019\", \"endyear\":\"2020\"})\n",
    "LF_responseB = requests.post('https://api.bls.gov/publicAPI/v2/timeseries/data/?registrationkey=b205f2551a34471eae93f557017a8da6', data = parameters, headers=headers)\n",
    "print(LF_responseB.status_code) "
   ]
  },
  {
   "cell_type": "code",
   "execution_count": 81,
   "metadata": {},
   "outputs": [
    {
     "name": "stdout",
     "output_type": "stream",
     "text": [
      "200\n"
     ]
    }
   ],
   "source": [
    "# pull data from U.S. Bureau of Labor Statistics API \n",
    "# procede for D.C. seriesID\n",
    "headers = {'Content-type': 'application/json'}\n",
    "parameters = json.dumps({\"seriesid\" : [\"LASST110000000000006\"], \"startyear\":\"2019\", \"endyear\":\"2020\"})\n",
    "LF_responseDC = requests.post('https://api.bls.gov/publicAPI/v2/timeseries/data/?registrationkey=b205f2551a34471eae93f557017a8da6', data = parameters, headers=headers)\n",
    "print(LF_responseDC.status_code)\n",
    "#print(LF_responseDC.content)"
   ]
  },
  {
   "cell_type": "code",
   "execution_count": 82,
   "metadata": {},
   "outputs": [
    {
     "name": "stderr",
     "output_type": "stream",
     "text": [
      "/opt/anaconda3/lib/python3.7/site-packages/ipykernel_launcher.py:11: FutureWarning: `item` has been deprecated and will be removed in a future version\n",
      "  # This is added back by InteractiveShellApp.init_path()\n"
     ]
    },
    {
     "data": {
      "text/html": [
       "<div>\n",
       "<style scoped>\n",
       "    .dataframe tbody tr th:only-of-type {\n",
       "        vertical-align: middle;\n",
       "    }\n",
       "\n",
       "    .dataframe tbody tr th {\n",
       "        vertical-align: top;\n",
       "    }\n",
       "\n",
       "    .dataframe thead th {\n",
       "        text-align: right;\n",
       "    }\n",
       "</style>\n",
       "<table border=\"1\" class=\"dataframe\">\n",
       "  <thead>\n",
       "    <tr style=\"text-align: right;\">\n",
       "      <th></th>\n",
       "      <th>ID</th>\n",
       "      <th>LF_value</th>\n",
       "    </tr>\n",
       "  </thead>\n",
       "  <tbody>\n",
       "    <tr>\n",
       "      <td>0</td>\n",
       "      <td>Alabama2020M06</td>\n",
       "      <td>2195843</td>\n",
       "    </tr>\n",
       "    <tr>\n",
       "      <td>1</td>\n",
       "      <td>Alabama2020M05</td>\n",
       "      <td>2239608</td>\n",
       "    </tr>\n",
       "    <tr>\n",
       "      <td>2</td>\n",
       "      <td>Alabama2020M04</td>\n",
       "      <td>2198485</td>\n",
       "    </tr>\n",
       "    <tr>\n",
       "      <td>3</td>\n",
       "      <td>Alabama2020M03</td>\n",
       "      <td>2218590</td>\n",
       "    </tr>\n",
       "    <tr>\n",
       "      <td>4</td>\n",
       "      <td>Alabama2020M02</td>\n",
       "      <td>2243960</td>\n",
       "    </tr>\n",
       "    <tr>\n",
       "      <td>...</td>\n",
       "      <td>...</td>\n",
       "      <td>...</td>\n",
       "    </tr>\n",
       "    <tr>\n",
       "      <td>913</td>\n",
       "      <td>District of Columbia2019M05</td>\n",
       "      <td>409126</td>\n",
       "    </tr>\n",
       "    <tr>\n",
       "      <td>914</td>\n",
       "      <td>District of Columbia2019M04</td>\n",
       "      <td>408698</td>\n",
       "    </tr>\n",
       "    <tr>\n",
       "      <td>915</td>\n",
       "      <td>District of Columbia2019M03</td>\n",
       "      <td>408166</td>\n",
       "    </tr>\n",
       "    <tr>\n",
       "      <td>916</td>\n",
       "      <td>District of Columbia2019M02</td>\n",
       "      <td>407526</td>\n",
       "    </tr>\n",
       "    <tr>\n",
       "      <td>917</td>\n",
       "      <td>District of Columbia2019M01</td>\n",
       "      <td>406773</td>\n",
       "    </tr>\n",
       "  </tbody>\n",
       "</table>\n",
       "<p>918 rows × 2 columns</p>\n",
       "</div>"
      ],
      "text/plain": [
       "                              ID LF_value\n",
       "0                 Alabama2020M06  2195843\n",
       "1                 Alabama2020M05  2239608\n",
       "2                 Alabama2020M04  2198485\n",
       "3                 Alabama2020M03  2218590\n",
       "4                 Alabama2020M02  2243960\n",
       "..                           ...      ...\n",
       "913  District of Columbia2019M05   409126\n",
       "914  District of Columbia2019M04   408698\n",
       "915  District of Columbia2019M03   408166\n",
       "916  District of Columbia2019M02   407526\n",
       "917  District of Columbia2019M01   406773\n",
       "\n",
       "[918 rows x 2 columns]"
      ]
     },
     "execution_count": 82,
     "metadata": {},
     "output_type": "execute_result"
    }
   ],
   "source": [
    "# create a list of dataframe from json results\n",
    "LF_df_list = [LF_responseA.json(), LF_responseB.json(), LF_responseDC.json()]\n",
    "\n",
    "# create a pandas dataframe merging all the values in the dataframes\n",
    "ID = []\n",
    "LF_value = []\n",
    "for i in range(len(LF_df_list)):\n",
    "    for serie in LF_df_list[i]['Results']['series']:\n",
    "         for x in serie['data']:\n",
    "            ID.append(state_code['state_name'][state_code['LF_series_id'] == serie['seriesID']].item() \\\n",
    "                      + str(x['year']) + str(x['period']))\n",
    "            LF_value.append(x['value'])\n",
    "\n",
    "LF_data = pd.DataFrame(list(zip(ID, LF_value)), \n",
    "               columns =['ID', 'LF_value']) \n",
    "        \n",
    "LF_data"
   ]
  },
  {
   "cell_type": "code",
   "execution_count": 83,
   "metadata": {},
   "outputs": [
    {
     "data": {
      "text/html": [
       "<div>\n",
       "<style scoped>\n",
       "    .dataframe tbody tr th:only-of-type {\n",
       "        vertical-align: middle;\n",
       "    }\n",
       "\n",
       "    .dataframe tbody tr th {\n",
       "        vertical-align: top;\n",
       "    }\n",
       "\n",
       "    .dataframe thead th {\n",
       "        text-align: right;\n",
       "    }\n",
       "</style>\n",
       "<table border=\"1\" class=\"dataframe\">\n",
       "  <thead>\n",
       "    <tr style=\"text-align: right;\">\n",
       "      <th></th>\n",
       "      <th>state</th>\n",
       "      <th>year</th>\n",
       "      <th>period</th>\n",
       "      <th>value</th>\n",
       "      <th>ID</th>\n",
       "      <th>LF_value</th>\n",
       "    </tr>\n",
       "  </thead>\n",
       "  <tbody>\n",
       "    <tr>\n",
       "      <td>0</td>\n",
       "      <td>Alabama</td>\n",
       "      <td>2020</td>\n",
       "      <td>M06</td>\n",
       "      <td>7.5</td>\n",
       "      <td>Alabama2020M06</td>\n",
       "      <td>2195843</td>\n",
       "    </tr>\n",
       "    <tr>\n",
       "      <td>1</td>\n",
       "      <td>Alabama</td>\n",
       "      <td>2020</td>\n",
       "      <td>M05</td>\n",
       "      <td>9.6</td>\n",
       "      <td>Alabama2020M05</td>\n",
       "      <td>2239608</td>\n",
       "    </tr>\n",
       "    <tr>\n",
       "      <td>2</td>\n",
       "      <td>Alabama</td>\n",
       "      <td>2020</td>\n",
       "      <td>M04</td>\n",
       "      <td>13.8</td>\n",
       "      <td>Alabama2020M04</td>\n",
       "      <td>2198485</td>\n",
       "    </tr>\n",
       "    <tr>\n",
       "      <td>3</td>\n",
       "      <td>Alabama</td>\n",
       "      <td>2020</td>\n",
       "      <td>M03</td>\n",
       "      <td>3.0</td>\n",
       "      <td>Alabama2020M03</td>\n",
       "      <td>2218590</td>\n",
       "    </tr>\n",
       "    <tr>\n",
       "      <td>4</td>\n",
       "      <td>Alabama</td>\n",
       "      <td>2020</td>\n",
       "      <td>M02</td>\n",
       "      <td>2.7</td>\n",
       "      <td>Alabama2020M02</td>\n",
       "      <td>2243960</td>\n",
       "    </tr>\n",
       "    <tr>\n",
       "      <td>...</td>\n",
       "      <td>...</td>\n",
       "      <td>...</td>\n",
       "      <td>...</td>\n",
       "      <td>...</td>\n",
       "      <td>...</td>\n",
       "      <td>...</td>\n",
       "    </tr>\n",
       "    <tr>\n",
       "      <td>913</td>\n",
       "      <td>District of Columbia</td>\n",
       "      <td>2019</td>\n",
       "      <td>M05</td>\n",
       "      <td>5.5</td>\n",
       "      <td>District of Columbia2019M05</td>\n",
       "      <td>409126</td>\n",
       "    </tr>\n",
       "    <tr>\n",
       "      <td>914</td>\n",
       "      <td>District of Columbia</td>\n",
       "      <td>2019</td>\n",
       "      <td>M04</td>\n",
       "      <td>5.6</td>\n",
       "      <td>District of Columbia2019M04</td>\n",
       "      <td>408698</td>\n",
       "    </tr>\n",
       "    <tr>\n",
       "      <td>915</td>\n",
       "      <td>District of Columbia</td>\n",
       "      <td>2019</td>\n",
       "      <td>M03</td>\n",
       "      <td>5.7</td>\n",
       "      <td>District of Columbia2019M03</td>\n",
       "      <td>408166</td>\n",
       "    </tr>\n",
       "    <tr>\n",
       "      <td>916</td>\n",
       "      <td>District of Columbia</td>\n",
       "      <td>2019</td>\n",
       "      <td>M02</td>\n",
       "      <td>5.8</td>\n",
       "      <td>District of Columbia2019M02</td>\n",
       "      <td>407526</td>\n",
       "    </tr>\n",
       "    <tr>\n",
       "      <td>917</td>\n",
       "      <td>District of Columbia</td>\n",
       "      <td>2019</td>\n",
       "      <td>M01</td>\n",
       "      <td>5.8</td>\n",
       "      <td>District of Columbia2019M01</td>\n",
       "      <td>406773</td>\n",
       "    </tr>\n",
       "  </tbody>\n",
       "</table>\n",
       "<p>918 rows × 6 columns</p>\n",
       "</div>"
      ],
      "text/plain": [
       "                    state  year period value                           ID  \\\n",
       "0                 Alabama  2020    M06   7.5               Alabama2020M06   \n",
       "1                 Alabama  2020    M05   9.6               Alabama2020M05   \n",
       "2                 Alabama  2020    M04  13.8               Alabama2020M04   \n",
       "3                 Alabama  2020    M03   3.0               Alabama2020M03   \n",
       "4                 Alabama  2020    M02   2.7               Alabama2020M02   \n",
       "..                    ...   ...    ...   ...                          ...   \n",
       "913  District of Columbia  2019    M05   5.5  District of Columbia2019M05   \n",
       "914  District of Columbia  2019    M04   5.6  District of Columbia2019M04   \n",
       "915  District of Columbia  2019    M03   5.7  District of Columbia2019M03   \n",
       "916  District of Columbia  2019    M02   5.8  District of Columbia2019M02   \n",
       "917  District of Columbia  2019    M01   5.8  District of Columbia2019M01   \n",
       "\n",
       "    LF_value  \n",
       "0    2195843  \n",
       "1    2239608  \n",
       "2    2198485  \n",
       "3    2218590  \n",
       "4    2243960  \n",
       "..       ...  \n",
       "913   409126  \n",
       "914   408698  \n",
       "915   408166  \n",
       "916   407526  \n",
       "917   406773  \n",
       "\n",
       "[918 rows x 6 columns]"
      ]
     },
     "execution_count": 83,
     "metadata": {},
     "output_type": "execute_result"
    }
   ],
   "source": [
    "data = pd.merge(un_data,\n",
    "               LF_data,\n",
    "               on = 'ID')\n",
    "data"
   ]
  },
  {
   "cell_type": "code",
   "execution_count": 84,
   "metadata": {},
   "outputs": [
    {
     "data": {
      "text/html": [
       "<div>\n",
       "<style scoped>\n",
       "    .dataframe tbody tr th:only-of-type {\n",
       "        vertical-align: middle;\n",
       "    }\n",
       "\n",
       "    .dataframe tbody tr th {\n",
       "        vertical-align: top;\n",
       "    }\n",
       "\n",
       "    .dataframe thead th {\n",
       "        text-align: right;\n",
       "    }\n",
       "</style>\n",
       "<table border=\"1\" class=\"dataframe\">\n",
       "  <thead>\n",
       "    <tr style=\"text-align: right;\">\n",
       "      <th></th>\n",
       "      <th>state_code</th>\n",
       "      <th>state_name</th>\n",
       "      <th>state_id</th>\n",
       "      <th>series_id</th>\n",
       "      <th>LF_series_id</th>\n",
       "      <th>EMP_series_id</th>\n",
       "    </tr>\n",
       "  </thead>\n",
       "  <tbody>\n",
       "    <tr>\n",
       "      <td>8</td>\n",
       "      <td>11</td>\n",
       "      <td>District of Columbia</td>\n",
       "      <td>DC</td>\n",
       "      <td>LASST110000000000003</td>\n",
       "      <td>LASST110000000000006</td>\n",
       "      <td>LASST110000000000005</td>\n",
       "    </tr>\n",
       "  </tbody>\n",
       "</table>\n",
       "</div>"
      ],
      "text/plain": [
       "   state_code            state_name state_id             series_id  \\\n",
       "8          11  District of Columbia       DC  LASST110000000000003   \n",
       "\n",
       "           LF_series_id         EMP_series_id  \n",
       "8  LASST110000000000006  LASST110000000000005  "
      ]
     },
     "execution_count": 84,
     "metadata": {},
     "output_type": "execute_result"
    }
   ],
   "source": [
    "# obtain the seriesid for EMPLOYMENT per each state from the list of state code\n",
    "EMP_seriesid_list = []\n",
    "for code in state_code['state_code']:\n",
    "    if code < 10:\n",
    "        EMP_seriesid_list.append('LASST0' + str(code) + '0000000000005')\n",
    "    else: \n",
    "        EMP_seriesid_list.append('LASST' + str(code) + '0000000000005')\n",
    "state_code['EMP_series_id'] = EMP_seriesid_list\n",
    "# U.S. Bureau of Labor Statistics consents to pull API up to 50 seriesID\n",
    "# So we drop the value of D.C. from the list of seriesID, leaving the IDs for the 50 states\n",
    "state_code[state_code['state_name'] == 'District of Columbia']"
   ]
  },
  {
   "cell_type": "code",
   "execution_count": 85,
   "metadata": {},
   "outputs": [
    {
     "data": {
      "text/plain": [
       "50"
      ]
     },
     "execution_count": 85,
     "metadata": {},
     "output_type": "execute_result"
    }
   ],
   "source": [
    "# removing the seriesID from the list\n",
    "EMP_seriesid_list.remove('LASST110000000000005')\n",
    "len(EMP_seriesid_list)"
   ]
  },
  {
   "cell_type": "code",
   "execution_count": 86,
   "metadata": {},
   "outputs": [],
   "source": [
    "# BLS allows only 25 seriesID's requests, so we split the list in two parts \n",
    "EMP_seriesid_listA = []\n",
    "EMP_seriesid_listB = []\n",
    "for i in range(len(EMP_seriesid_list)):\n",
    "    if i < len(EMP_seriesid_list)/2:\n",
    "        EMP_seriesid_listA.append(EMP_seriesid_list[i])\n",
    "    else:\n",
    "        EMP_seriesid_listB.append(EMP_seriesid_list[i])"
   ]
  },
  {
   "cell_type": "code",
   "execution_count": 87,
   "metadata": {},
   "outputs": [
    {
     "name": "stdout",
     "output_type": "stream",
     "text": [
      "200\n"
     ]
    }
   ],
   "source": [
    "# pull data from U.S. Bureau of Labor Statistics API \n",
    "# procede for seriesID_listA\n",
    "headers = {'Content-type': 'application/json'}\n",
    "parameters = json.dumps({\"seriesid\" : EMP_seriesid_listA, \"startyear\":\"2019\", \"endyear\":\"2020\"})\n",
    "EMP_responseA = requests.post('https://api.bls.gov/publicAPI/v2/timeseries/data/?registrationkey=b205f2551a34471eae93f557017a8da6', data = parameters, headers=headers)\n",
    "print(EMP_responseA.status_code) \n",
    "#print(EMP_responseA.content)"
   ]
  },
  {
   "cell_type": "code",
   "execution_count": 88,
   "metadata": {},
   "outputs": [
    {
     "name": "stdout",
     "output_type": "stream",
     "text": [
      "200\n"
     ]
    }
   ],
   "source": [
    "# pull data from U.S. Bureau of Labor Statistics API \n",
    "# procede for seriesID_listB\n",
    "headers = {'Content-type': 'application/json'}\n",
    "parameters = json.dumps({\"seriesid\" : EMP_seriesid_listB, \"startyear\":\"2019\", \"endyear\":\"2020\"})\n",
    "EMP_responseB = requests.post('https://api.bls.gov/publicAPI/v2/timeseries/data/?registrationkey=b205f2551a34471eae93f557017a8da6', data = parameters, headers=headers)\n",
    "print(EMP_responseB.status_code) "
   ]
  },
  {
   "cell_type": "code",
   "execution_count": 89,
   "metadata": {},
   "outputs": [
    {
     "name": "stdout",
     "output_type": "stream",
     "text": [
      "200\n"
     ]
    }
   ],
   "source": [
    "# pull data from U.S. Bureau of Labor Statistics API \n",
    "# procede for D.C. seriesID\n",
    "headers = {'Content-type': 'application/json'}\n",
    "parameters = json.dumps({\"seriesid\" : [\"LASST110000000000005\"], \"startyear\":\"2019\", \"endyear\":\"2020\"})\n",
    "EMP_responseDC = requests.post('https://api.bls.gov/publicAPI/v2/timeseries/data/?registrationkey=b205f2551a34471eae93f557017a8da6', data = parameters, headers=headers)\n",
    "print(EMP_responseDC.status_code)\n",
    "#print(EMP_responseDC.content)"
   ]
  },
  {
   "cell_type": "code",
   "execution_count": 90,
   "metadata": {},
   "outputs": [
    {
     "name": "stderr",
     "output_type": "stream",
     "text": [
      "/opt/anaconda3/lib/python3.7/site-packages/ipykernel_launcher.py:11: FutureWarning: `item` has been deprecated and will be removed in a future version\n",
      "  # This is added back by InteractiveShellApp.init_path()\n"
     ]
    },
    {
     "data": {
      "text/html": [
       "<div>\n",
       "<style scoped>\n",
       "    .dataframe tbody tr th:only-of-type {\n",
       "        vertical-align: middle;\n",
       "    }\n",
       "\n",
       "    .dataframe tbody tr th {\n",
       "        vertical-align: top;\n",
       "    }\n",
       "\n",
       "    .dataframe thead th {\n",
       "        text-align: right;\n",
       "    }\n",
       "</style>\n",
       "<table border=\"1\" class=\"dataframe\">\n",
       "  <thead>\n",
       "    <tr style=\"text-align: right;\">\n",
       "      <th></th>\n",
       "      <th>ID</th>\n",
       "      <th>EMP_value</th>\n",
       "    </tr>\n",
       "  </thead>\n",
       "  <tbody>\n",
       "    <tr>\n",
       "      <td>0</td>\n",
       "      <td>Alabama2020M06</td>\n",
       "      <td>2030073</td>\n",
       "    </tr>\n",
       "    <tr>\n",
       "      <td>1</td>\n",
       "      <td>Alabama2020M05</td>\n",
       "      <td>2023565</td>\n",
       "    </tr>\n",
       "    <tr>\n",
       "      <td>2</td>\n",
       "      <td>Alabama2020M04</td>\n",
       "      <td>1895950</td>\n",
       "    </tr>\n",
       "    <tr>\n",
       "      <td>3</td>\n",
       "      <td>Alabama2020M03</td>\n",
       "      <td>2151586</td>\n",
       "    </tr>\n",
       "    <tr>\n",
       "      <td>4</td>\n",
       "      <td>Alabama2020M02</td>\n",
       "      <td>2184305</td>\n",
       "    </tr>\n",
       "    <tr>\n",
       "      <td>...</td>\n",
       "      <td>...</td>\n",
       "      <td>...</td>\n",
       "    </tr>\n",
       "    <tr>\n",
       "      <td>913</td>\n",
       "      <td>District of Columbia2019M05</td>\n",
       "      <td>386492</td>\n",
       "    </tr>\n",
       "    <tr>\n",
       "      <td>914</td>\n",
       "      <td>District of Columbia2019M04</td>\n",
       "      <td>385659</td>\n",
       "    </tr>\n",
       "    <tr>\n",
       "      <td>915</td>\n",
       "      <td>District of Columbia2019M03</td>\n",
       "      <td>384810</td>\n",
       "    </tr>\n",
       "    <tr>\n",
       "      <td>916</td>\n",
       "      <td>District of Columbia2019M02</td>\n",
       "      <td>384015</td>\n",
       "    </tr>\n",
       "    <tr>\n",
       "      <td>917</td>\n",
       "      <td>District of Columbia2019M01</td>\n",
       "      <td>383285</td>\n",
       "    </tr>\n",
       "  </tbody>\n",
       "</table>\n",
       "<p>918 rows × 2 columns</p>\n",
       "</div>"
      ],
      "text/plain": [
       "                              ID EMP_value\n",
       "0                 Alabama2020M06   2030073\n",
       "1                 Alabama2020M05   2023565\n",
       "2                 Alabama2020M04   1895950\n",
       "3                 Alabama2020M03   2151586\n",
       "4                 Alabama2020M02   2184305\n",
       "..                           ...       ...\n",
       "913  District of Columbia2019M05    386492\n",
       "914  District of Columbia2019M04    385659\n",
       "915  District of Columbia2019M03    384810\n",
       "916  District of Columbia2019M02    384015\n",
       "917  District of Columbia2019M01    383285\n",
       "\n",
       "[918 rows x 2 columns]"
      ]
     },
     "execution_count": 90,
     "metadata": {},
     "output_type": "execute_result"
    }
   ],
   "source": [
    "# create a list of dataframe from json results\n",
    "EMP_df_list = [EMP_responseA.json(), EMP_responseB.json(), EMP_responseDC.json()]\n",
    "\n",
    "# create a pandas dataframe merging all the values in the dataframes\n",
    "ID = []\n",
    "EMP_value = []\n",
    "for i in range(len(EMP_df_list)):\n",
    "    for serie in EMP_df_list[i]['Results']['series']:\n",
    "         for x in serie['data']:\n",
    "            ID.append(state_code['state_name'][state_code['EMP_series_id'] == serie['seriesID']].item() \\\n",
    "                      + str(x['year']) + str(x['period']))\n",
    "            EMP_value.append(x['value'])\n",
    "\n",
    "EMP_data = pd.DataFrame(list(zip(ID, EMP_value)), \n",
    "               columns =['ID', 'EMP_value']) \n",
    "        \n",
    "EMP_data"
   ]
  },
  {
   "cell_type": "code",
   "execution_count": 91,
   "metadata": {},
   "outputs": [
    {
     "data": {
      "text/html": [
       "<div>\n",
       "<style scoped>\n",
       "    .dataframe tbody tr th:only-of-type {\n",
       "        vertical-align: middle;\n",
       "    }\n",
       "\n",
       "    .dataframe tbody tr th {\n",
       "        vertical-align: top;\n",
       "    }\n",
       "\n",
       "    .dataframe thead th {\n",
       "        text-align: right;\n",
       "    }\n",
       "</style>\n",
       "<table border=\"1\" class=\"dataframe\">\n",
       "  <thead>\n",
       "    <tr style=\"text-align: right;\">\n",
       "      <th></th>\n",
       "      <th>state</th>\n",
       "      <th>year</th>\n",
       "      <th>period</th>\n",
       "      <th>value</th>\n",
       "      <th>ID</th>\n",
       "      <th>LF_value</th>\n",
       "      <th>EMP_value</th>\n",
       "    </tr>\n",
       "  </thead>\n",
       "  <tbody>\n",
       "    <tr>\n",
       "      <td>0</td>\n",
       "      <td>Alabama</td>\n",
       "      <td>2020</td>\n",
       "      <td>M06</td>\n",
       "      <td>7.5</td>\n",
       "      <td>Alabama2020M06</td>\n",
       "      <td>2195843</td>\n",
       "      <td>2030073</td>\n",
       "    </tr>\n",
       "    <tr>\n",
       "      <td>1</td>\n",
       "      <td>Alabama</td>\n",
       "      <td>2020</td>\n",
       "      <td>M05</td>\n",
       "      <td>9.6</td>\n",
       "      <td>Alabama2020M05</td>\n",
       "      <td>2239608</td>\n",
       "      <td>2023565</td>\n",
       "    </tr>\n",
       "    <tr>\n",
       "      <td>2</td>\n",
       "      <td>Alabama</td>\n",
       "      <td>2020</td>\n",
       "      <td>M04</td>\n",
       "      <td>13.8</td>\n",
       "      <td>Alabama2020M04</td>\n",
       "      <td>2198485</td>\n",
       "      <td>1895950</td>\n",
       "    </tr>\n",
       "    <tr>\n",
       "      <td>3</td>\n",
       "      <td>Alabama</td>\n",
       "      <td>2020</td>\n",
       "      <td>M03</td>\n",
       "      <td>3.0</td>\n",
       "      <td>Alabama2020M03</td>\n",
       "      <td>2218590</td>\n",
       "      <td>2151586</td>\n",
       "    </tr>\n",
       "    <tr>\n",
       "      <td>4</td>\n",
       "      <td>Alabama</td>\n",
       "      <td>2020</td>\n",
       "      <td>M02</td>\n",
       "      <td>2.7</td>\n",
       "      <td>Alabama2020M02</td>\n",
       "      <td>2243960</td>\n",
       "      <td>2184305</td>\n",
       "    </tr>\n",
       "    <tr>\n",
       "      <td>...</td>\n",
       "      <td>...</td>\n",
       "      <td>...</td>\n",
       "      <td>...</td>\n",
       "      <td>...</td>\n",
       "      <td>...</td>\n",
       "      <td>...</td>\n",
       "      <td>...</td>\n",
       "    </tr>\n",
       "    <tr>\n",
       "      <td>913</td>\n",
       "      <td>District of Columbia</td>\n",
       "      <td>2019</td>\n",
       "      <td>M05</td>\n",
       "      <td>5.5</td>\n",
       "      <td>District of Columbia2019M05</td>\n",
       "      <td>409126</td>\n",
       "      <td>386492</td>\n",
       "    </tr>\n",
       "    <tr>\n",
       "      <td>914</td>\n",
       "      <td>District of Columbia</td>\n",
       "      <td>2019</td>\n",
       "      <td>M04</td>\n",
       "      <td>5.6</td>\n",
       "      <td>District of Columbia2019M04</td>\n",
       "      <td>408698</td>\n",
       "      <td>385659</td>\n",
       "    </tr>\n",
       "    <tr>\n",
       "      <td>915</td>\n",
       "      <td>District of Columbia</td>\n",
       "      <td>2019</td>\n",
       "      <td>M03</td>\n",
       "      <td>5.7</td>\n",
       "      <td>District of Columbia2019M03</td>\n",
       "      <td>408166</td>\n",
       "      <td>384810</td>\n",
       "    </tr>\n",
       "    <tr>\n",
       "      <td>916</td>\n",
       "      <td>District of Columbia</td>\n",
       "      <td>2019</td>\n",
       "      <td>M02</td>\n",
       "      <td>5.8</td>\n",
       "      <td>District of Columbia2019M02</td>\n",
       "      <td>407526</td>\n",
       "      <td>384015</td>\n",
       "    </tr>\n",
       "    <tr>\n",
       "      <td>917</td>\n",
       "      <td>District of Columbia</td>\n",
       "      <td>2019</td>\n",
       "      <td>M01</td>\n",
       "      <td>5.8</td>\n",
       "      <td>District of Columbia2019M01</td>\n",
       "      <td>406773</td>\n",
       "      <td>383285</td>\n",
       "    </tr>\n",
       "  </tbody>\n",
       "</table>\n",
       "<p>918 rows × 7 columns</p>\n",
       "</div>"
      ],
      "text/plain": [
       "                    state  year period value                           ID  \\\n",
       "0                 Alabama  2020    M06   7.5               Alabama2020M06   \n",
       "1                 Alabama  2020    M05   9.6               Alabama2020M05   \n",
       "2                 Alabama  2020    M04  13.8               Alabama2020M04   \n",
       "3                 Alabama  2020    M03   3.0               Alabama2020M03   \n",
       "4                 Alabama  2020    M02   2.7               Alabama2020M02   \n",
       "..                    ...   ...    ...   ...                          ...   \n",
       "913  District of Columbia  2019    M05   5.5  District of Columbia2019M05   \n",
       "914  District of Columbia  2019    M04   5.6  District of Columbia2019M04   \n",
       "915  District of Columbia  2019    M03   5.7  District of Columbia2019M03   \n",
       "916  District of Columbia  2019    M02   5.8  District of Columbia2019M02   \n",
       "917  District of Columbia  2019    M01   5.8  District of Columbia2019M01   \n",
       "\n",
       "    LF_value EMP_value  \n",
       "0    2195843   2030073  \n",
       "1    2239608   2023565  \n",
       "2    2198485   1895950  \n",
       "3    2218590   2151586  \n",
       "4    2243960   2184305  \n",
       "..       ...       ...  \n",
       "913   409126    386492  \n",
       "914   408698    385659  \n",
       "915   408166    384810  \n",
       "916   407526    384015  \n",
       "917   406773    383285  \n",
       "\n",
       "[918 rows x 7 columns]"
      ]
     },
     "execution_count": 91,
     "metadata": {},
     "output_type": "execute_result"
    }
   ],
   "source": [
    "data = pd.merge(data,\n",
    "               EMP_data,\n",
    "               on = 'ID')\n",
    "data"
   ]
  },
  {
   "cell_type": "code",
   "execution_count": 92,
   "metadata": {},
   "outputs": [
    {
     "data": {
      "text/plain": [
       "state                object\n",
       "year                 object\n",
       "period               object\n",
       "value               float64\n",
       "ID                   object\n",
       "LF_value             object\n",
       "EMP_value            object\n",
       "date         datetime64[ns]\n",
       "dtype: object"
      ]
     },
     "execution_count": 92,
     "metadata": {},
     "output_type": "execute_result"
    }
   ],
   "source": [
    "import datetime\n",
    "data['date'] = (data['period'].str[1:]+'/'+data['year']).astype('datetime64[M]')\n",
    "#data['date'] = pd.to_datetime(data['date']).dt.to_period('M')\n",
    "data['value'] = data['value'].astype('float64')\n",
    "data.dtypes"
   ]
  },
  {
   "cell_type": "code",
   "execution_count": 93,
   "metadata": {},
   "outputs": [],
   "source": [
    "data.to_csv('unemployemnt.csv')"
   ]
  },
  {
   "cell_type": "code",
   "execution_count": null,
   "metadata": {},
   "outputs": [],
   "source": []
  }
 ],
 "metadata": {
  "kernelspec": {
   "display_name": "Python 3",
   "language": "python",
   "name": "python3"
  },
  "language_info": {
   "codemirror_mode": {
    "name": "ipython",
    "version": 3
   },
   "file_extension": ".py",
   "mimetype": "text/x-python",
   "name": "python",
   "nbconvert_exporter": "python",
   "pygments_lexer": "ipython3",
   "version": "3.7.4"
  }
 },
 "nbformat": 4,
 "nbformat_minor": 2
}
